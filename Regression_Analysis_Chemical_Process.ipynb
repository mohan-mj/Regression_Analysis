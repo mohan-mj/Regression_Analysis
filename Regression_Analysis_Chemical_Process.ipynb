{
  "nbformat": 4,
  "nbformat_minor": 0,
  "metadata": {
    "kernelspec": {
      "display_name": "Python 3",
      "language": "python",
      "name": "python3"
    },
    "language_info": {
      "codemirror_mode": {
        "name": "ipython",
        "version": 3
      },
      "file_extension": ".py",
      "mimetype": "text/x-python",
      "name": "python",
      "nbconvert_exporter": "python",
      "pygments_lexer": "ipython3",
      "version": "3.6.4"
    },
    "colab": {
      "name": "Regression_Analysis_Chemical_Process.ipynb",
      "provenance": [],
      "include_colab_link": true
    }
  },
  "cells": [
    {
      "cell_type": "markdown",
      "metadata": {
        "id": "view-in-github",
        "colab_type": "text"
      },
      "source": [
        "<a href=\"https://colab.research.google.com/github/mohan-mj/Regression_Analysis/blob/master/Regression_Analysis_Chemical_Process.ipynb\" target=\"_parent\"><img src=\"https://colab.research.google.com/assets/colab-badge.svg\" alt=\"Open In Colab\"/></a>"
      ]
    },
    {
      "cell_type": "markdown",
      "metadata": {
        "id": "xBpjKTVNNDAN",
        "colab_type": "text"
      },
      "source": [
        "### The effect of temperature and reaction time affects the %yield. Develop a model for %yield in terms of temperature and time"
      ]
    },
    {
      "cell_type": "code",
      "metadata": {
        "id": "eStI_s0CNDAb",
        "colab_type": "code",
        "colab": {}
      },
      "source": [
        "import pandas as mypanda\n",
        "import numpy as np\n",
        "from scipy import stats as mystats\n",
        "import matplotlib.pyplot as myplot\n",
        "from pandas.plotting import scatter_matrix\n",
        "from statsmodels.formula.api import ols as myols\n",
        "from statsmodels.stats.anova import anova_lm"
      ],
      "execution_count": 0,
      "outputs": []
    },
    {
      "cell_type": "code",
      "metadata": {
        "id": "QvIEekPqNDAu",
        "colab_type": "code",
        "colab": {},
        "outputId": "0876242b-6dcb-4ae9-ab62-c55e42a765c6"
      },
      "source": [
        "myData=mypanda.read_csv('datasets/Mult_Reg_Yield.csv')\n",
        "myData"
      ],
      "execution_count": 0,
      "outputs": [
        {
          "output_type": "execute_result",
          "data": {
            "text/html": [
              "<div>\n",
              "<style>\n",
              "    .dataframe thead tr:only-child th {\n",
              "        text-align: right;\n",
              "    }\n",
              "\n",
              "    .dataframe thead th {\n",
              "        text-align: left;\n",
              "    }\n",
              "\n",
              "    .dataframe tbody tr th {\n",
              "        vertical-align: top;\n",
              "    }\n",
              "</style>\n",
              "<table border=\"1\" class=\"dataframe\">\n",
              "  <thead>\n",
              "    <tr style=\"text-align: right;\">\n",
              "      <th></th>\n",
              "      <th>Time</th>\n",
              "      <th>Temperature</th>\n",
              "      <th>Yield</th>\n",
              "    </tr>\n",
              "  </thead>\n",
              "  <tbody>\n",
              "    <tr>\n",
              "      <th>0</th>\n",
              "      <td>130</td>\n",
              "      <td>190</td>\n",
              "      <td>35.0</td>\n",
              "    </tr>\n",
              "    <tr>\n",
              "      <th>1</th>\n",
              "      <td>174</td>\n",
              "      <td>176</td>\n",
              "      <td>81.7</td>\n",
              "    </tr>\n",
              "    <tr>\n",
              "      <th>2</th>\n",
              "      <td>134</td>\n",
              "      <td>205</td>\n",
              "      <td>42.5</td>\n",
              "    </tr>\n",
              "    <tr>\n",
              "      <th>3</th>\n",
              "      <td>191</td>\n",
              "      <td>210</td>\n",
              "      <td>98.3</td>\n",
              "    </tr>\n",
              "    <tr>\n",
              "      <th>4</th>\n",
              "      <td>165</td>\n",
              "      <td>230</td>\n",
              "      <td>52.7</td>\n",
              "    </tr>\n",
              "    <tr>\n",
              "      <th>5</th>\n",
              "      <td>194</td>\n",
              "      <td>192</td>\n",
              "      <td>82.0</td>\n",
              "    </tr>\n",
              "    <tr>\n",
              "      <th>6</th>\n",
              "      <td>143</td>\n",
              "      <td>220</td>\n",
              "      <td>34.5</td>\n",
              "    </tr>\n",
              "    <tr>\n",
              "      <th>7</th>\n",
              "      <td>186</td>\n",
              "      <td>235</td>\n",
              "      <td>95.4</td>\n",
              "    </tr>\n",
              "    <tr>\n",
              "      <th>8</th>\n",
              "      <td>139</td>\n",
              "      <td>240</td>\n",
              "      <td>56.7</td>\n",
              "    </tr>\n",
              "    <tr>\n",
              "      <th>9</th>\n",
              "      <td>188</td>\n",
              "      <td>230</td>\n",
              "      <td>84.4</td>\n",
              "    </tr>\n",
              "    <tr>\n",
              "      <th>10</th>\n",
              "      <td>175</td>\n",
              "      <td>200</td>\n",
              "      <td>94.3</td>\n",
              "    </tr>\n",
              "    <tr>\n",
              "      <th>11</th>\n",
              "      <td>156</td>\n",
              "      <td>218</td>\n",
              "      <td>44.3</td>\n",
              "    </tr>\n",
              "    <tr>\n",
              "      <th>12</th>\n",
              "      <td>190</td>\n",
              "      <td>220</td>\n",
              "      <td>83.3</td>\n",
              "    </tr>\n",
              "    <tr>\n",
              "      <th>13</th>\n",
              "      <td>178</td>\n",
              "      <td>210</td>\n",
              "      <td>91.4</td>\n",
              "    </tr>\n",
              "    <tr>\n",
              "      <th>14</th>\n",
              "      <td>132</td>\n",
              "      <td>208</td>\n",
              "      <td>43.5</td>\n",
              "    </tr>\n",
              "    <tr>\n",
              "      <th>15</th>\n",
              "      <td>148</td>\n",
              "      <td>225</td>\n",
              "      <td>51.7</td>\n",
              "    </tr>\n",
              "  </tbody>\n",
              "</table>\n",
              "</div>"
            ],
            "text/plain": [
              "    Time  Temperature  Yield\n",
              "0    130          190   35.0\n",
              "1    174          176   81.7\n",
              "2    134          205   42.5\n",
              "3    191          210   98.3\n",
              "4    165          230   52.7\n",
              "5    194          192   82.0\n",
              "6    143          220   34.5\n",
              "7    186          235   95.4\n",
              "8    139          240   56.7\n",
              "9    188          230   84.4\n",
              "10   175          200   94.3\n",
              "11   156          218   44.3\n",
              "12   190          220   83.3\n",
              "13   178          210   91.4\n",
              "14   132          208   43.5\n",
              "15   148          225   51.7"
            ]
          },
          "metadata": {
            "tags": []
          },
          "execution_count": 2
        }
      ]
    },
    {
      "cell_type": "code",
      "metadata": {
        "id": "zhSnSnXoNDBD",
        "colab_type": "code",
        "colab": {}
      },
      "source": [
        "tmp=myData.Temperature\n",
        "yld =myData.Yield\n",
        "time=myData.Time"
      ],
      "execution_count": 0,
      "outputs": []
    },
    {
      "cell_type": "markdown",
      "metadata": {
        "id": "7D-JVL9xNDBT",
        "colab_type": "text"
      },
      "source": [
        "##### check for relationship now"
      ]
    },
    {
      "cell_type": "code",
      "metadata": {
        "id": "4gYWFGuJNDBY",
        "colab_type": "code",
        "colab": {},
        "outputId": "b75b5bfa-2332-4a42-d0e6-12efbcc9e242"
      },
      "source": [
        "scatter_matrix(myData)\n",
        "myplot.show()"
      ],
      "execution_count": 0,
      "outputs": [
        {
          "output_type": "stream",
          "text": [
            "C:\\ProgramData\\Anaconda3\\lib\\site-packages\\ipykernel_launcher.py:1: FutureWarning: 'pandas.tools.plotting.scatter_matrix' is deprecated, import 'pandas.plotting.scatter_matrix' instead.\n",
            "  \"\"\"Entry point for launching an IPython kernel.\n"
          ],
          "name": "stderr"
        },
        {
          "output_type": "display_data",
          "data": {
            "image/png": "[encoded data removed]",
            "text/plain": [
              "<matplotlib.figure.Figure at 0x2ce051b7e48>"
            ]
          },
          "metadata": {
            "tags": []
          }
        }
      ]
    },
    {
      "cell_type": "markdown",
      "metadata": {
        "id": "BfqTGBxcNDBp",
        "colab_type": "text"
      },
      "source": [
        "##### correlation between xs and y should be high"
      ]
    },
    {
      "cell_type": "code",
      "metadata": {
        "id": "2y7HM5TiNDBu",
        "colab_type": "code",
        "colab": {},
        "outputId": "8b420dac-5cd8-4a82-926a-dc09fbef2e7f"
      },
      "source": [
        "np.corrcoef(tmp,yld)"
      ],
      "execution_count": 0,
      "outputs": [
        {
          "output_type": "execute_result",
          "data": {
            "text/plain": [
              "array([[ 1.        , -0.05456951],\n",
              "       [-0.05456951,  1.        ]])"
            ]
          },
          "metadata": {
            "tags": []
          },
          "execution_count": 5
        }
      ]
    },
    {
      "cell_type": "code",
      "metadata": {
        "id": "gesSKw4uNDB_",
        "colab_type": "code",
        "colab": {},
        "outputId": "827e7ac8-f0ad-43d3-f0da-c0b340cd6367"
      },
      "source": [
        "np.corrcoef(time,yld)"
      ],
      "execution_count": 0,
      "outputs": [
        {
          "output_type": "execute_result",
          "data": {
            "text/plain": [
              "array([[1.        , 0.89671196],\n",
              "       [0.89671196, 1.        ]])"
            ]
          },
          "metadata": {
            "tags": []
          },
          "execution_count": 6
        }
      ]
    },
    {
      "cell_type": "code",
      "metadata": {
        "id": "ztI53SVyNDCM",
        "colab_type": "code",
        "colab": {},
        "outputId": "96aee56b-2de8-4634-bca2-73847f3030d3"
      },
      "source": [
        "np.corrcoef(time,tmp)"
      ],
      "execution_count": 0,
      "outputs": [
        {
          "output_type": "execute_result",
          "data": {
            "text/plain": [
              "array([[ 1.        , -0.00756007],\n",
              "       [-0.00756007,  1.        ]])"
            ]
          },
          "metadata": {
            "tags": []
          },
          "execution_count": 7
        }
      ]
    },
    {
      "cell_type": "code",
      "metadata": {
        "id": "-cDoei-ZNDCZ",
        "colab_type": "code",
        "colab": {},
        "outputId": "dbf0c055-b5ec-48c9-bdc0-739a138057d7"
      },
      "source": [
        "mymodel=myols(\"yld ~ time + tmp\",myData)\n",
        "mymodel=mymodel.fit()\n",
        "mymodel.summary()"
      ],
      "execution_count": 0,
      "outputs": [
        {
          "output_type": "stream",
          "text": [
            "C:\\ProgramData\\Anaconda3\\lib\\site-packages\\scipy\\stats\\stats.py:1334: UserWarning: kurtosistest only valid for n>=20 ... continuing anyway, n=16\n",
            "  \"anyway, n=%i\" % int(n))\n"
          ],
          "name": "stderr"
        },
        {
          "output_type": "execute_result",
          "data": {
            "text/html": [
              "<table class=\"simpletable\">\n",
              "<caption>OLS Regression Results</caption>\n",
              "<tr>\n",
              "  <th>Dep. Variable:</th>           <td>yld</td>       <th>  R-squared:         </th> <td>   0.806</td>\n",
              "</tr>\n",
              "<tr>\n",
              "  <th>Model:</th>                   <td>OLS</td>       <th>  Adj. R-squared:    </th> <td>   0.777</td>\n",
              "</tr>\n",
              "<tr>\n",
              "  <th>Method:</th>             <td>Least Squares</td>  <th>  F-statistic:       </th> <td>   27.07</td>\n",
              "</tr>\n",
              "<tr>\n",
              "  <th>Date:</th>             <td>Wed, 21 Mar 2018</td> <th>  Prob (F-statistic):</th> <td>2.32e-05</td>\n",
              "</tr>\n",
              "<tr>\n",
              "  <th>Time:</th>                 <td>17:52:04</td>     <th>  Log-Likelihood:    </th> <td> -59.703</td>\n",
              "</tr>\n",
              "<tr>\n",
              "  <th>No. Observations:</th>      <td>    16</td>      <th>  AIC:               </th> <td>   125.4</td>\n",
              "</tr>\n",
              "<tr>\n",
              "  <th>Df Residuals:</th>          <td>    13</td>      <th>  BIC:               </th> <td>   127.7</td>\n",
              "</tr>\n",
              "<tr>\n",
              "  <th>Df Model:</th>              <td>     2</td>      <th>                     </th>     <td> </td>   \n",
              "</tr>\n",
              "<tr>\n",
              "  <th>Covariance Type:</th>      <td>nonrobust</td>    <th>                     </th>     <td> </td>   \n",
              "</tr>\n",
              "</table>\n",
              "<table class=\"simpletable\">\n",
              "<tr>\n",
              "      <td></td>         <th>coef</th>     <th>std err</th>      <th>t</th>      <th>P>|t|</th>  <th>[0.025</th>    <th>0.975]</th>  \n",
              "</tr>\n",
              "<tr>\n",
              "  <th>Intercept</th> <td>  -67.8844</td> <td>   40.587</td> <td>   -1.673</td> <td> 0.118</td> <td> -155.566</td> <td>   19.797</td>\n",
              "</tr>\n",
              "<tr>\n",
              "  <th>time</th>      <td>    0.9061</td> <td>    0.123</td> <td>    7.344</td> <td> 0.000</td> <td>    0.640</td> <td>    1.173</td>\n",
              "</tr>\n",
              "<tr>\n",
              "  <th>tmp</th>       <td>   -0.0642</td> <td>    0.164</td> <td>   -0.392</td> <td> 0.702</td> <td>   -0.418</td> <td>    0.290</td>\n",
              "</tr>\n",
              "</table>\n",
              "<table class=\"simpletable\">\n",
              "<tr>\n",
              "  <th>Omnibus:</th>       <td> 1.984</td> <th>  Durbin-Watson:     </th> <td>   1.957</td>\n",
              "</tr>\n",
              "<tr>\n",
              "  <th>Prob(Omnibus):</th> <td> 0.371</td> <th>  Jarque-Bera (JB):  </th> <td>   0.970</td>\n",
              "</tr>\n",
              "<tr>\n",
              "  <th>Skew:</th>          <td>-0.078</td> <th>  Prob(JB):          </th> <td>   0.616</td>\n",
              "</tr>\n",
              "<tr>\n",
              "  <th>Kurtosis:</th>      <td> 1.804</td> <th>  Cond. No.          </th> <td>3.91e+03</td>\n",
              "</tr>\n",
              "</table>"
            ],
            "text/plain": [
              "<class 'statsmodels.iolib.summary.Summary'>\n",
              "\"\"\"\n",
              "                            OLS Regression Results                            \n",
              "==============================================================================\n",
              "Dep. Variable:                    yld   R-squared:                       0.806\n",
              "Model:                            OLS   Adj. R-squared:                  0.777\n",
              "Method:                 Least Squares   F-statistic:                     27.07\n",
              "Date:                Wed, 21 Mar 2018   Prob (F-statistic):           2.32e-05\n",
              "Time:                        17:52:04   Log-Likelihood:                -59.703\n",
              "No. Observations:                  16   AIC:                             125.4\n",
              "Df Residuals:                      13   BIC:                             127.7\n",
              "Df Model:                           2                                         \n",
              "Covariance Type:            nonrobust                                         \n",
              "==============================================================================\n",
              "                 coef    std err          t      P>|t|      [0.025      0.975]\n",
              "------------------------------------------------------------------------------\n",
              "Intercept    -67.8844     40.587     -1.673      0.118    -155.566      19.797\n",
              "time           0.9061      0.123      7.344      0.000       0.640       1.173\n",
              "tmp           -0.0642      0.164     -0.392      0.702      -0.418       0.290\n",
              "==============================================================================\n",
              "Omnibus:                        1.984   Durbin-Watson:                   1.957\n",
              "Prob(Omnibus):                  0.371   Jarque-Bera (JB):                0.970\n",
              "Skew:                          -0.078   Prob(JB):                        0.616\n",
              "Kurtosis:                       1.804   Cond. No.                     3.91e+03\n",
              "==============================================================================\n",
              "\n",
              "Warnings:\n",
              "[1] Standard Errors assume that the covariance matrix of the errors is correctly specified.\n",
              "[2] The condition number is large, 3.91e+03. This might indicate that there are\n",
              "strong multicollinearity or other numerical problems.\n",
              "\"\"\""
            ]
          },
          "metadata": {
            "tags": []
          },
          "execution_count": 22
        }
      ]
    },
    {
      "cell_type": "markdown",
      "metadata": {
        "id": "A9Evj-WcNDCz",
        "colab_type": "text"
      },
      "source": [
        "##### check p value ==> only time is related to yield"
      ]
    },
    {
      "cell_type": "code",
      "metadata": {
        "id": "MnPy8Cy2NDDK",
        "colab_type": "code",
        "colab": {},
        "outputId": "a65b8874-8f27-4fdc-97cc-b6178894ad7b"
      },
      "source": [
        "mymodel=myols(\"yld ~ time \",myData).fit()\n",
        "mymodel.summary()"
      ],
      "execution_count": 0,
      "outputs": [
        {
          "output_type": "stream",
          "text": [
            "C:\\ProgramData\\Anaconda3\\lib\\site-packages\\scipy\\stats\\stats.py:1334: UserWarning: kurtosistest only valid for n>=20 ... continuing anyway, n=16\n",
            "  \"anyway, n=%i\" % int(n))\n"
          ],
          "name": "stderr"
        },
        {
          "output_type": "execute_result",
          "data": {
            "text/html": [
              "<table class=\"simpletable\">\n",
              "<caption>OLS Regression Results</caption>\n",
              "<tr>\n",
              "  <th>Dep. Variable:</th>           <td>yld</td>       <th>  R-squared:         </th> <td>   0.804</td>\n",
              "</tr>\n",
              "<tr>\n",
              "  <th>Model:</th>                   <td>OLS</td>       <th>  Adj. R-squared:    </th> <td>   0.790</td>\n",
              "</tr>\n",
              "<tr>\n",
              "  <th>Method:</th>             <td>Least Squares</td>  <th>  F-statistic:       </th> <td>   57.46</td>\n",
              "</tr>\n",
              "<tr>\n",
              "  <th>Date:</th>             <td>Wed, 21 Mar 2018</td> <th>  Prob (F-statistic):</th> <td>2.55e-06</td>\n",
              "</tr>\n",
              "<tr>\n",
              "  <th>Time:</th>                 <td>17:41:26</td>     <th>  Log-Likelihood:    </th> <td> -59.797</td>\n",
              "</tr>\n",
              "<tr>\n",
              "  <th>No. Observations:</th>      <td>    16</td>      <th>  AIC:               </th> <td>   123.6</td>\n",
              "</tr>\n",
              "<tr>\n",
              "  <th>Df Residuals:</th>          <td>    14</td>      <th>  BIC:               </th> <td>   125.1</td>\n",
              "</tr>\n",
              "<tr>\n",
              "  <th>Df Model:</th>              <td>     1</td>      <th>                     </th>     <td> </td>   \n",
              "</tr>\n",
              "<tr>\n",
              "  <th>Covariance Type:</th>      <td>nonrobust</td>    <th>                     </th>     <td> </td>   \n",
              "</tr>\n",
              "</table>\n",
              "<table class=\"simpletable\">\n",
              "<tr>\n",
              "      <td></td>         <th>coef</th>     <th>std err</th>      <th>t</th>      <th>P>|t|</th>  <th>[0.025</th>    <th>0.975]</th>  \n",
              "</tr>\n",
              "<tr>\n",
              "  <th>Intercept</th> <td>  -81.6205</td> <td>   19.791</td> <td>   -4.124</td> <td> 0.001</td> <td> -124.067</td> <td>  -39.174</td>\n",
              "</tr>\n",
              "<tr>\n",
              "  <th>time</th>      <td>    0.9065</td> <td>    0.120</td> <td>    7.580</td> <td> 0.000</td> <td>    0.650</td> <td>    1.163</td>\n",
              "</tr>\n",
              "</table>\n",
              "<table class=\"simpletable\">\n",
              "<tr>\n",
              "  <th>Omnibus:</th>       <td> 1.894</td> <th>  Durbin-Watson:     </th> <td>   2.055</td>\n",
              "</tr>\n",
              "<tr>\n",
              "  <th>Prob(Omnibus):</th> <td> 0.388</td> <th>  Jarque-Bera (JB):  </th> <td>   0.969</td>\n",
              "</tr>\n",
              "<tr>\n",
              "  <th>Skew:</th>          <td>-0.127</td> <th>  Prob(JB):          </th> <td>   0.616</td>\n",
              "</tr>\n",
              "<tr>\n",
              "  <th>Kurtosis:</th>      <td> 1.822</td> <th>  Cond. No.          </th> <td>1.21e+03</td>\n",
              "</tr>\n",
              "</table>"
            ],
            "text/plain": [
              "<class 'statsmodels.iolib.summary.Summary'>\n",
              "\"\"\"\n",
              "                            OLS Regression Results                            \n",
              "==============================================================================\n",
              "Dep. Variable:                    yld   R-squared:                       0.804\n",
              "Model:                            OLS   Adj. R-squared:                  0.790\n",
              "Method:                 Least Squares   F-statistic:                     57.46\n",
              "Date:                Wed, 21 Mar 2018   Prob (F-statistic):           2.55e-06\n",
              "Time:                        17:41:26   Log-Likelihood:                -59.797\n",
              "No. Observations:                  16   AIC:                             123.6\n",
              "Df Residuals:                      14   BIC:                             125.1\n",
              "Df Model:                           1                                         \n",
              "Covariance Type:            nonrobust                                         \n",
              "==============================================================================\n",
              "                 coef    std err          t      P>|t|      [0.025      0.975]\n",
              "------------------------------------------------------------------------------\n",
              "Intercept    -81.6205     19.791     -4.124      0.001    -124.067     -39.174\n",
              "time           0.9065      0.120      7.580      0.000       0.650       1.163\n",
              "==============================================================================\n",
              "Omnibus:                        1.894   Durbin-Watson:                   2.055\n",
              "Prob(Omnibus):                  0.388   Jarque-Bera (JB):                0.969\n",
              "Skew:                          -0.127   Prob(JB):                        0.616\n",
              "Kurtosis:                       1.822   Cond. No.                     1.21e+03\n",
              "==============================================================================\n",
              "\n",
              "Warnings:\n",
              "[1] Standard Errors assume that the covariance matrix of the errors is correctly specified.\n",
              "[2] The condition number is large, 1.21e+03. This might indicate that there are\n",
              "strong multicollinearity or other numerical problems.\n",
              "\"\"\""
            ]
          },
          "metadata": {
            "tags": []
          },
          "execution_count": 9
        }
      ]
    },
    {
      "cell_type": "code",
      "metadata": {
        "id": "C6hR4uKeNDDu",
        "colab_type": "code",
        "colab": {},
        "outputId": "e86bdd4a-2702-45db-bf95-7f9d5165e9ca"
      },
      "source": [
        "pred=mymodel.predict()\n",
        "res=yld-pred\n",
        "res"
      ],
      "execution_count": 0,
      "outputs": [
        {
          "output_type": "execute_result",
          "data": {
            "text/plain": [
              "0     -1.218472\n",
              "1      5.597558\n",
              "2      2.655712\n",
              "3      6.787842\n",
              "4    -15.244357\n",
              "5    -12.231519\n",
              "6    -13.502372\n",
              "7      8.420112\n",
              "8     12.323443\n",
              "9     -4.392796\n",
              "10    17.291104\n",
              "11   -15.486272\n",
              "12    -7.305704\n",
              "13    11.671743\n",
              "14     5.468620\n",
              "15    -0.834642\n",
              "Name: Yield, dtype: float64"
            ]
          },
          "metadata": {
            "tags": []
          },
          "execution_count": 10
        }
      ]
    },
    {
      "cell_type": "code",
      "metadata": {
        "id": "tMNUCpOBNDD6",
        "colab_type": "code",
        "colab": {}
      },
      "source": [
        "#print(yld, res)"
      ],
      "execution_count": 0,
      "outputs": []
    },
    {
      "cell_type": "code",
      "metadata": {
        "id": "gK-mEnwuNDEE",
        "colab_type": "code",
        "colab": {},
        "outputId": "86b29c24-f7cb-4361-aa6f-21a44085faf4"
      },
      "source": [
        "myplot.scatter(yld,pred)\n",
        "myplot.show()"
      ],
      "execution_count": 0,
      "outputs": [
        {
          "output_type": "display_data",
          "data": {
            "image/png": "[encoded data removed]",
            "text/plain": [
              "<matplotlib.figure.Figure at 0x2ce7c9980b8>"
            ]
          },
          "metadata": {
            "tags": []
          }
        }
      ]
    },
    {
      "cell_type": "code",
      "metadata": {
        "id": "Gz8sDsceNDEP",
        "colab_type": "code",
        "colab": {},
        "outputId": "dc9036e4-176b-4548-f604-209ec4174d63"
      },
      "source": [
        "mystats.probplot(res,plot=myplot)\n",
        "myplot.show()"
      ],
      "execution_count": 0,
      "outputs": [
        {
          "output_type": "display_data",
          "data": {
            "image/png": "[encoded data removed]",
            "text/plain": [
              "<matplotlib.figure.Figure at 0x2ce08b45e80>"
            ]
          },
          "metadata": {
            "tags": []
          }
        }
      ]
    },
    {
      "cell_type": "code",
      "metadata": {
        "id": "Vdu-sNRDNDEc",
        "colab_type": "code",
        "colab": {},
        "outputId": "df4c88f9-d047-4a75-9986-e1770787d5c2"
      },
      "source": [
        "mystats.normaltest(res)"
      ],
      "execution_count": 0,
      "outputs": [
        {
          "output_type": "stream",
          "text": [
            "C:\\ProgramData\\Anaconda3\\lib\\site-packages\\scipy\\stats\\stats.py:1334: UserWarning: kurtosistest only valid for n>=20 ... continuing anyway, n=16\n",
            "  \"anyway, n=%i\" % int(n))\n"
          ],
          "name": "stderr"
        },
        {
          "output_type": "execute_result",
          "data": {
            "text/plain": [
              "NormaltestResult(statistic=1.8944805759902852, pvalue=0.3878097913672068)"
            ]
          },
          "metadata": {
            "tags": []
          },
          "execution_count": 14
        }
      ]
    },
    {
      "cell_type": "markdown",
      "metadata": {
        "id": "HfI4wUKQNDEm",
        "colab_type": "text"
      },
      "source": [
        "##### Implies it is normal"
      ]
    },
    {
      "cell_type": "code",
      "metadata": {
        "id": "cb8U4-49NDEq",
        "colab_type": "code",
        "colab": {},
        "outputId": "d81f06e2-7f9e-422c-daef-3b906ee3cb95"
      },
      "source": [
        "myplot.scatter(time,res)\n",
        "myplot.show()"
      ],
      "execution_count": 0,
      "outputs": [
        {
          "output_type": "display_data",
          "data": {
            "image/png": "[encoded data removed]",
            "text/plain": [
              "<matplotlib.figure.Figure at 0x2ce06641a90>"
            ]
          },
          "metadata": {
            "tags": []
          }
        }
      ]
    },
    {
      "cell_type": "code",
      "metadata": {
        "id": "VEYfrkGpNDE1",
        "colab_type": "code",
        "colab": {},
        "outputId": "1c562a87-a5d3-4181-fa8b-b3bb5029e6ae"
      },
      "source": [
        "myplot.scatter(pred,res)\n",
        "myplot.show()"
      ],
      "execution_count": 0,
      "outputs": [
        {
          "output_type": "display_data",
          "data": {
            "image/png": "[encoded data removed]",
            "text/plain": [
              "<matplotlib.figure.Figure at 0x2ce06601358>"
            ]
          },
          "metadata": {
            "tags": []
          }
        }
      ]
    },
    {
      "cell_type": "markdown",
      "metadata": {
        "id": "NB0-JwOsNDFB",
        "colab_type": "text"
      },
      "source": [
        "##### random values /scattered plot means that the model is good.\n",
        "there should not be any pattern in the plot. if pattern then there exists a better prediction using the method"
      ]
    }
  ]
}